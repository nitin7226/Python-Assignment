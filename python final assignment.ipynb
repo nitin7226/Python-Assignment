{
 "cells": [
  {
   "cell_type": "code",
   "execution_count": 1,
   "id": "cdf8aca6",
   "metadata": {},
   "outputs": [
    {
     "name": "stdout",
     "output_type": "stream",
     "text": [
      "5\n",
      "{1: 1, 2: 4, 3: 9, 4: 16, 5: 25}\n"
     ]
    }
   ],
   "source": [
    "# 1. Write a Python script to generate and print a dictionary that contains a number (between \n",
    "#1 and n) in the form (x, x*x)\n",
    "# * Sample Dictionary ( n = 5) : \n",
    "# * Expected Output : {1: 1, 2: 4, 3: 9, 4: 16, 5: 25}\n",
    "\n",
    "num =int(input())\n",
    "dict_1 = {}\n",
    "for i in range (1,num+1):\n",
    "    dict_1[i]=i*i\n",
    "print(dict_1)"
   ]
  },
  {
   "cell_type": "code",
   "execution_count": 48,
   "id": "a7c49363",
   "metadata": {},
   "outputs": [
    {
     "name": "stdout",
     "output_type": "stream",
     "text": [
      "{'a': 400, 'b': 400, 'c': 300, 'd': 400}\n"
     ]
    }
   ],
   "source": [
    "#2. Write a Python program to combine two dictionary adding values for common keys\n",
    "# * d1 = {'a': 100, 'b': 200, 'c':300}\n",
    "# * d2 = {'a': 300, 'b': 200, 'd':400}\n",
    "# * Sample output: Counter({'a': 400, 'b': 400, 'd': 400, 'c': 300})\n",
    "\n",
    "\n",
    "d1 = {'a': 100, 'b': 200, 'c':300}\n",
    "d2 = {'a': 300, 'b': 200, 'd':400}\n",
    "for i in d2 :\n",
    "    if i in d1 :\n",
    "        d1[ i ] = d1[ i ] +d2[ i ]\n",
    "    else :\n",
    "        d1[ i ] = d2[ i ]\n",
    "print(d1)"
   ]
  },
  {
   "cell_type": "code",
   "execution_count": 49,
   "id": "36c4f94f",
   "metadata": {},
   "outputs": [],
   "source": [
    "#3. Write a Python program to print all unique values in a dictionary\n",
    "# * Sample Data : [{\"V\":\"S001\"}, {\"V\": \"S002\"}, {\"VI\": \"S001\"}, {\"VI\": \"S005\"}, {\"VII\":\"S005\"}, {\"V\":\"S009\"},{\"VIII\":\"S007\"}]\n",
    "# * Expected Output : Unique Values: {'S005', 'S002', 'S007', 'S001', 'S009'}  \n",
    "dict_1 = [{\"V\":\"S001\"}, {\"V\": \"S002\"}, {\"VI\": \"S001\"}, {\"VI\": \"S005\"}, {\"VII\":\"S005\"}, {\"V\":\"S009\"},{\"VIII\":\"S007\"}]\n",
    "\n",
    "\n",
    "\n",
    "\n",
    "#pending"
   ]
  },
  {
   "cell_type": "code",
   "execution_count": 50,
   "id": "0f7fbf1b",
   "metadata": {},
   "outputs": [
    {
     "name": "stdout",
     "output_type": "stream",
     "text": [
      "ac\n",
      "ad\n",
      "bc\n",
      "bd\n"
     ]
    }
   ],
   "source": [
    "#  4. Write a Python progmyram to create and display all combinations of letters, selecting each #\n",
    "#letter from a different key in a dictionary.\n",
    "# Sample data : {'1':['a','b'], '2':['c','d']}\n",
    "###### Expected Output: \n",
    "# ac\n",
    "#ad\n",
    "#bc\n",
    "#bd\n",
    "\n",
    "\n",
    "\n",
    "\n",
    "dict1 = {'1':['a','b'], '2':['c','d']}   \n",
    "dict2 = list(dict1.values())\n",
    "for i in dict2[0]:\n",
    "    for j in dict2[1]:\n",
    "        print(i+j)\n",
    "        "
   ]
  },
  {
   "cell_type": "code",
   "execution_count": 51,
   "id": "fb9fcc02",
   "metadata": {},
   "outputs": [
    {
     "name": "stdout",
     "output_type": "stream",
     "text": [
      "{'w': 1, '3': 1, 'r': 2, 'e': 2, 's': 1, 'o': 1, 'u': 1, 'c': 1}\n"
     ]
    }
   ],
   "source": [
    "#  5. Write a Python program to create a dictionary from a string.\n",
    "#  Note: Track the count of the letters from the string.\n",
    "#  Sample string : 'w3resource'\n",
    "#  Expected output: {'3': 1, 's': 1, 'r': 2, 'u': 1, 'w': 1, 'c': 1, 'e': 2, 'o': 1}\n",
    "\n",
    "\n",
    "\n",
    "str1 = 'w3resource'\n",
    "dict1 = {}\n",
    "for val in str1:\n",
    "    if val not in dict1:\n",
    "        dict1[val]=1\n",
    "    else:\n",
    "        dict1[val]+=1\n",
    "print(dict1)                                  "
   ]
  },
  {
   "cell_type": "code",
   "execution_count": 9,
   "id": "1970ccf2",
   "metadata": {},
   "outputs": [
    {
     "name": "stdout",
     "output_type": "stream",
     "text": [
      "2\n"
     ]
    }
   ],
   "source": [
    "#6. Write a Python program to count the values associated with key in a dictionary.\n",
    "# * Sample data: = [{'id': 1, 'success': True, 'name': 'Lary'}, {'id': 2, 'success': False, 'name':'Rabi'}, {'id': 3, 'success': True, 'name': 'Alex'}]\n",
    "# * Expected result: Count of how many dictionaries have success as True\n",
    "\n",
    "\n",
    "list_dict = [{'id': 1, 'success': True, 'name': 'Lary'}, {'id': 2, 'success': False, 'name': \n",
    "'Rabi'}, {'id': 3, 'success': True, 'name': 'Alex'}]\n",
    "               \n",
    "count= 0\n",
    "\n",
    "for dict_val in list_dict:\n",
    "    if dict_val['success'] == True:\n",
    "        count += 1\n",
    "        \n",
    "print(count)"
   ]
  },
  {
   "cell_type": "code",
   "execution_count": 53,
   "id": "10e0a30f",
   "metadata": {},
   "outputs": [
    {
     "name": "stdout",
     "output_type": "stream",
     "text": [
      "{'nitin': 1, 'hemant': 1, 'ajay': 3}\n"
     ]
    }
   ],
   "source": [
    "#  7. Write a Python program to convert a list into a nested dictionary of keys.\n",
    "\n",
    "\n",
    "list1 = [('nitin',1),('hemant',1),('ajay',3)]\n",
    "dict1 = dict(list1)\n",
    "print(dict1)"
   ]
  },
  {
   "cell_type": "code",
   "execution_count": 1,
   "id": "9fe0ceae",
   "metadata": {},
   "outputs": [
    {
     "name": "stdout",
     "output_type": "stream",
     "text": [
      "{'A': [1, 2, 3]} , {'B': [1, 2, 5]} , {'C': [2, 3, 4]} , "
     ]
    }
   ],
   "source": [
    "# 8. Write a Python program to sort a list alphabetically in a dictionary.\n",
    "\n",
    "dict = {'A':[2, 3, 1], 'B': [5, 1, 2], 'C': [3, 2, 4]}\n",
    "for i, j in dict.items():\n",
    "    sorted_dict ={i:sorted(j)}\n",
    "    print(sorted_dict,end = ' , ' )    "
   ]
  },
  {
   "cell_type": "code",
   "execution_count": 55,
   "id": "1a728055",
   "metadata": {},
   "outputs": [],
   "source": [
    "# 9. Write a Python program to sort Counter by value.\n",
    "#  Sample data : {'Math':81, 'Physics':83, 'Chemistry':87}\n",
    "#  Expected data: [('Chemistry', 87), ('Physics', 83), ('Math', 81)\n",
    "\n",
    "sample_data = {'Math':81, 'Physics':83, 'Chemistry':87}"
   ]
  },
  {
   "cell_type": "code",
   "execution_count": 56,
   "id": "a904fd05",
   "metadata": {},
   "outputs": [
    {
     "name": "stdout",
     "output_type": "stream",
     "text": [
      "key1 is present in both i and j\n"
     ]
    }
   ],
   "source": [
    "#  10. Write a Python program to match key values in two dictionaries. Go to the editor\n",
    "#  Sample dictionary:  {'key1': 1, 'key2': 3, 'key3': 2}, {'key1': 1, 'key2': 2}\n",
    "#  Expected output: key1: 1 is present in both x and y\n",
    "\n",
    "\n",
    "keys1 = {'key1': 1, 'key2': 3, 'key3': 2}\n",
    "keys2 = {'key1': 1, 'key2': 2}\n",
    "for i in keys1:\n",
    "    if i in keys2:\n",
    "        if keys1[i]==keys2[i]:\n",
    "            print(i,'is present in both i and j')"
   ]
  },
  {
   "cell_type": "code",
   "execution_count": 2,
   "id": "d4183045",
   "metadata": {},
   "outputs": [
    {
     "name": "stdout",
     "output_type": "stream",
     "text": [
      "empty list\n"
     ]
    }
   ],
   "source": [
    "# 11. Write a Python program to check a list is empty or not?\n",
    "\n",
    "list1 = [[14,2],[4,5],[],[8]]\n",
    "for i in list1:\n",
    "    if i==[]:\n",
    "        print('empty list')\n",
    "        break\n",
    "else:\n",
    "    print('not empty list')\n",
    "        "
   ]
  },
  {
   "cell_type": "code",
   "execution_count": 3,
   "id": "0c7a2c3d",
   "metadata": {},
   "outputs": [
    {
     "name": "stdout",
     "output_type": "stream",
     "text": [
      "[1, 5, 2, 6, 8, 9, 10, 88]\n"
     ]
    }
   ],
   "source": [
    "# 12. Write a Python program to remove duplicates from a list.\n",
    "\n",
    "listt = [1,5,2,6,6,2,8,9,10,88]\n",
    "listt1 = list()\n",
    "for dup in listt:\n",
    "    if dup not in listt1:\n",
    "        listt1.append(dup)\n",
    "print(listt1)"
   ]
  },
  {
   "cell_type": "code",
   "execution_count": 4,
   "id": "c51345d2",
   "metadata": {},
   "outputs": [
    {
     "data": {
      "text/plain": [
       "False"
      ]
     },
     "execution_count": 4,
     "metadata": {},
     "output_type": "execute_result"
    }
   ],
   "source": [
    "# 13. Write a Python function that takes two lists and returns True if they have at least one common number\n",
    "\n",
    "list1 = [1,2,3,4,5]\n",
    "list2 = [55,6,7,8,9]\n",
    "def func(list1,list2):\n",
    "    for val in list1:\n",
    "        if val in list2:\n",
    "            return True\n",
    "    return False\n",
    "func(list1,list2)\n",
    "        "
   ]
  },
  {
   "cell_type": "code",
   "execution_count": 5,
   "id": "d59ede96",
   "metadata": {},
   "outputs": [
    {
     "name": "stdout",
     "output_type": "stream",
     "text": [
      "[1, 2, 3]\n"
     ]
    }
   ],
   "source": [
    "# 14. Write a Python program to get the difference between the two lists.\n",
    "\n",
    "list1 = [1,2,3,4,5]\n",
    "list2 = [4,5,6,7,8]\n",
    "list3 = []\n",
    "for i in list1:\n",
    "    if i not in list2:\n",
    "        list3.append(i)\n",
    "print(list3)"
   ]
  },
  {
   "cell_type": "code",
   "execution_count": 6,
   "id": "54f5adc4",
   "metadata": {},
   "outputs": [
    {
     "name": "stdout",
     "output_type": "stream",
     "text": [
      "2\n"
     ]
    }
   ],
   "source": [
    "# 15. Write a Python program to find the second smallest number in a list\n",
    "\n",
    "listt = [5,8,9,7,6,4,2,3,1]\n",
    "listt.sort()\n",
    "print(listt[1])"
   ]
  },
  {
   "cell_type": "code",
   "execution_count": 7,
   "id": "8573caa5",
   "metadata": {},
   "outputs": [
    {
     "name": "stdout",
     "output_type": "stream",
     "text": [
      "8\n"
     ]
    }
   ],
   "source": [
    "# 16. Write a Python program to find the second largest number in a list.\n",
    "\n",
    "listt = [5,8,9,7,6,4,2,3,1]\n",
    "listt.sort()\n",
    "print(listt[-2])\n"
   ]
  },
  {
   "cell_type": "code",
   "execution_count": 8,
   "id": "7e89bbb2",
   "metadata": {},
   "outputs": [],
   "source": [
    "# 17. Write a Python program to get the frequency of the elements in a list\n",
    "\n"
   ]
  },
  {
   "cell_type": "code",
   "execution_count": 64,
   "id": "9922222d",
   "metadata": {},
   "outputs": [
    {
     "name": "stdout",
     "output_type": "stream",
     "text": [
      "113350"
     ]
    }
   ],
   "source": [
    "# 18. Write a Python program to convert a list of multiple integers into a single integer\n",
    "# Sample list: [11, 33, 50]\n",
    "# Expected Output: 113350\n",
    "\n",
    "sample_list = [11,33,50]\n",
    "for i in sample_list:\n",
    "    print(i,end = '')"
   ]
  },
  {
   "cell_type": "code",
   "execution_count": 65,
   "id": "e134a2d4",
   "metadata": {},
   "outputs": [
    {
     "name": "stdout",
     "output_type": "stream",
     "text": [
      "Color1-Color2:  ['red', 'orange', 'white']\n",
      "Color2-Color1:  ['black', 'yellow']\n"
     ]
    }
   ],
   "source": [
    "# 19. Write a Python program to compute the similarity between two lists.\n",
    "# * Sample data: [\"red\", \"orange\", \"green\", \"blue\", \"white\"], [\"black\", \"yellow\", \"green\", \"blue\"]\n",
    "# * Expected Output: \n",
    "# * Color1-Color2: ['white', 'orange', 'red']\n",
    "# * Color2-Color1: ['black', 'yellow']\n",
    " \n",
    "    \n",
    "from collections import Counter\n",
    "color1 = [\"red\", \"orange\", \"green\", \"blue\", \"white\"]\n",
    "color2 = [\"black\", \"yellow\", \"green\", \"blue\"]\n",
    "counter1 = Counter(color1)\n",
    "counter2 = Counter(color2)\n",
    "print(\"Color1-Color2: \",list(counter1 - counter2))\n",
    "print(\"Color2-Color1: \",list(counter2 - counter1))"
   ]
  },
  {
   "cell_type": "code",
   "execution_count": 66,
   "id": "2b3e4e5d",
   "metadata": {},
   "outputs": [
    {
     "name": "stdout",
     "output_type": "stream",
     "text": [
      "True\n"
     ]
    }
   ],
   "source": [
    "# 20. Write a Python program to check if all dictionaries in a list are empty or not.\n",
    "# * Sample list : [{},{},{}]\n",
    "# * Return value : True\n",
    "# * Sample list : [{1:2},{},{}]\n",
    "# * Return value : False\n",
    "\n",
    "\n",
    "sample_list = [{},{},{}]\n",
    "for list1 in sample_list:\n",
    "    if list1 != {}:\n",
    "        print('False')\n",
    "        break\n",
    "else:\n",
    "    print('True')"
   ]
  },
  {
   "cell_type": "code",
   "execution_count": 67,
   "id": "a364f6b0",
   "metadata": {},
   "outputs": [
    {
     "name": "stdout",
     "output_type": "stream",
     "text": [
      "{'g': 2, 'o': 3, 'l': 1, 'e': 1, '.': 1, 'c': 1, 'm': 1}\n"
     ]
    }
   ],
   "source": [
    "# 21. Write a Python program to count the number of characters (character frequency) in a string \n",
    "# * Sample String : google.com'\n",
    "# * Expected Result : {'o': 3, 'g': 2, '.': 1, 'e': 1, 'l': 1, 'm': 1, 'c': 1}\n",
    "\n",
    "sample_string = 'google.com'\n",
    "dict = {}\n",
    "for n in sample_string:\n",
    "    keys = dict.keys()\n",
    "    if n in keys:\n",
    "        dict[n] += 1\n",
    "    else:\n",
    "        dict[n] = 1\n",
    "print(dict)"
   ]
  },
  {
   "cell_type": "code",
   "execution_count": 68,
   "id": "823fa27e",
   "metadata": {},
   "outputs": [
    {
     "name": "stdout",
     "output_type": "stream",
     "text": [
      "resta$t\n"
     ]
    }
   ],
   "source": [
    "# 22. Write a Python program to get a string from a given string where all occurrences of its \n",
    "# first char have been changed to '$' ,except the first char itself\n",
    "#  * Sample String : 'restart'\n",
    "#  * Expected Result : 'resta$t'\n",
    "str1 = 'restart'\n",
    "char = str1[0]\n",
    "str1 = str1.replace(char, '$')\n",
    "str1 = char + str1[1:]\n",
    "print(str1)"
   ]
  },
  {
   "cell_type": "code",
   "execution_count": 69,
   "id": "fdd54f3a",
   "metadata": {},
   "outputs": [
    {
     "name": "stdout",
     "output_type": "stream",
     "text": [
      "(10, 'nitinsaini')\n"
     ]
    }
   ],
   "source": [
    "# 23. Write a Python function that takes a list of words and returns the length of the longest one\n",
    "\n",
    "\n",
    "list_of_words = ['nitin','hemant','ajay','nitinsaini']\n",
    "len1 = []\n",
    "for list1 in list_of_words:\n",
    "    len1.append((len(list1),list1))\n",
    "len1.sort()\n",
    "print(len1[-1])\n",
    "\n",
    "\n"
   ]
  },
  {
   "cell_type": "code",
   "execution_count": 70,
   "id": "24de3a5d",
   "metadata": {},
   "outputs": [
    {
     "name": "stdout",
     "output_type": "stream",
     "text": [
      "{'python': 1, 'is': 1, 'a': 1, 'program': 1}\n"
     ]
    }
   ],
   "source": [
    "# 24. Write a Python program to count the occurrences of each word in a given sentence\n",
    "\n",
    "str1 = 'python is a program'\n",
    "dict1 = {}\n",
    "word = str1.split()\n",
    "for i in word:\n",
    "    if i in dict1:\n",
    "        dict1[i]+=1\n",
    "    else:\n",
    "        dict1[i]=1\n",
    "print(dict1)    "
   ]
  },
  {
   "cell_type": "code",
   "execution_count": 71,
   "id": "01dc4656",
   "metadata": {},
   "outputs": [
    {
     "name": "stdout",
     "output_type": "stream",
     "text": [
      "NITINSAINI\n"
     ]
    }
   ],
   "source": [
    "# 25. Write a Python function to convert a given string to all uppercase if it contains at least 2 \n",
    "# uppercase characters in the first 4 characters.\n",
    "\n",
    "str1 = 'NitinSaini'\n",
    "str2 = 0\n",
    "for str3 in str1[:4]:\n",
    "    if str3.upper()==str3:\n",
    "        str2+=2\n",
    "if str2>=2:\n",
    "    print(str1.upper())\n",
    "else:\n",
    "    print(str1)"
   ]
  },
  {
   "cell_type": "code",
   "execution_count": 72,
   "id": "7927f1e0",
   "metadata": {},
   "outputs": [
    {
     "name": "stdout",
     "output_type": "stream",
     "text": [
      "5\n"
     ]
    }
   ],
   "source": [
    "# 26. Write a Python program to count and display the vowels of a given text.\n",
    "\n",
    "str1 = 'nitinsaini'\n",
    "vowel = 0\n",
    "for i in str1:\n",
    "    if (i=='a'or i=='e'or i=='i' or i=='o'or i=='u'or\n",
    "        i=='A'or i=='E' or i=='I'or i=='O' or i=='U'):\n",
    "        vowel+=1\n",
    "print(vowel)"
   ]
  },
  {
   "cell_type": "code",
   "execution_count": 73,
   "id": "aed4722c",
   "metadata": {},
   "outputs": [
    {
     "name": "stdout",
     "output_type": "stream",
     "text": [
      "('nitin', {1: 2}, [1, 2, 3], 2.5, 5)\n"
     ]
    }
   ],
   "source": [
    "# 27. Write a Python program to create a tuple with different data types.\n",
    "\n",
    "tupl =('nitin',{1:2},[1,2,3],2.5,5)\n",
    "print(tupl)"
   ]
  },
  {
   "cell_type": "code",
   "execution_count": 74,
   "id": "e30552af",
   "metadata": {},
   "outputs": [
    {
     "name": "stdout",
     "output_type": "stream",
     "text": [
      "(2, 9, 5, 6, 5, [1, 2])\n"
     ]
    }
   ],
   "source": [
    "# 28. Write a Python program to add an item in a tuple\n",
    "\n",
    "tuple1 = (2,9,5,6,5)\n",
    "tuple2 = tuple1 + ([1,2],)\n",
    "print(tuple2)"
   ]
  },
  {
   "cell_type": "code",
   "execution_count": 75,
   "id": "9d862839",
   "metadata": {},
   "outputs": [
    {
     "name": "stdout",
     "output_type": "stream",
     "text": [
      "nitin\n"
     ]
    }
   ],
   "source": [
    "# 29. Write a Python program to convert a tuple to a string\n",
    "\n",
    "tuple1 = ('n','i','t','i','n')\n",
    "str1 = ''\n",
    "for item in tuple1:\n",
    "    str1 = str1 + item\n",
    "print(str1)"
   ]
  },
  {
   "cell_type": "code",
   "execution_count": 76,
   "id": "086cb155",
   "metadata": {},
   "outputs": [
    {
     "name": "stdout",
     "output_type": "stream",
     "text": [
      "1\n",
      "5\n",
      "5\n",
      "1\n"
     ]
    }
   ],
   "source": [
    "# 30. Write a Python program to find the repeated items of a tuple\n",
    "\n",
    "tup=(1,2,3,4,5,5,6,1)  \n",
    "tup1 = ()\n",
    "for i in tup:\n",
    "    if tup.count(i) > 1:\n",
    "        print(i)"
   ]
  },
  {
   "cell_type": "code",
   "execution_count": 77,
   "id": "cbe9771c",
   "metadata": {},
   "outputs": [
    {
     "data": {
      "text/plain": [
       "5"
      ]
     },
     "execution_count": 77,
     "metadata": {},
     "output_type": "execute_result"
    }
   ],
   "source": [
    "# 31. Write a Python program to find the length of a tuple.\n",
    "\n",
    "tupl = ([1,2],5,6,9.5,'nitin')\n",
    "len(tupl)"
   ]
  },
  {
   "cell_type": "code",
   "execution_count": 15,
   "id": "3a1a8e84",
   "metadata": {},
   "outputs": [
    {
     "name": "stdout",
     "output_type": "stream",
     "text": [
      "[{'n': 2}, {'i': 3}, {'t': 4}, {'i': 5}, {'n': 6}]\n"
     ]
    }
   ],
   "source": [
    "# 32. Write a Python program to convert a tuple to a dictionary.\n",
    "\n",
    "tupl = ((2,'n'),(3,'i'),(4,'t'),(5,'i'),(6,'n'))\n",
    "\n",
    "print([{y:x} for x,y in tupl])"
   ]
  },
  {
   "cell_type": "code",
   "execution_count": 80,
   "id": "3d3b8825",
   "metadata": {},
   "outputs": [
    {
     "name": "stdout",
     "output_type": "stream",
     "text": [
      "[(10, 20, 100), (40, 50, 100), (70, 80, 100)]\n"
     ]
    }
   ],
   "source": [
    "# 33. Write a Python program to replace last value of tuples in a list. \n",
    "# * Sample list: [(10, 20, 40), (40, 50, 60), (70, 80, 90)]\n",
    "# * Expected Output: [(10, 20, 100), (40, 50, 100), (70, 80, 100)]\n",
    "\n",
    "list1 = [(10, 20, 40), (40, 50, 60), (70, 80, 90)]\n",
    "list2 = ([t[:2]+(100,)for t in list1])\n",
    "print(list2)"
   ]
  },
  {
   "cell_type": "code",
   "execution_count": 81,
   "id": "2836243d",
   "metadata": {},
   "outputs": [],
   "source": [
    "# 34. Write a Python program to replace empty tuples in a list. \n",
    "# * Sample data: [(), (), ('',), ('a', 'b'), ('a', 'b', 'c'), ('d')]\n",
    "# * Expected output: [('',), ('a', 'b'), ('a', 'b', 'c'), 'd']\n",
    "\n",
    "      #pending\n"
   ]
  },
  {
   "cell_type": "code",
   "execution_count": 82,
   "id": "f03156d3",
   "metadata": {},
   "outputs": [
    {
     "name": "stdout",
     "output_type": "stream",
     "text": [
      "[('item3', '24.5'), ('item2', '15.10'), ('item1', '12.20')]\n"
     ]
    }
   ],
   "source": [
    "# 35. Write a Python program to sort a tuple by its float element.\n",
    "# * Sample data: [('item1', '12.20'), ('item2', '15.10'), ('item3', '24.5')]\n",
    "# * Expected Output: [('item3', '24.5'), ('item2', '15.10'), ('item1', '12.20')]\n",
    "\n",
    "data1 =  [('item1', '12.20'), ('item2', '15.10'), ('item3', '24.5')]\n",
    "print(sorted(data1,key=lambda x :float(x[1]),reverse = True))\n",
    "\n"
   ]
  },
  {
   "cell_type": "code",
   "execution_count": 85,
   "id": "06d83c39",
   "metadata": {},
   "outputs": [
    {
     "ename": "SyntaxError",
     "evalue": "unexpected EOF while parsing (3066620049.py, line 3)",
     "output_type": "error",
     "traceback": [
      "\u001b[1;36m  File \u001b[1;32m\"C:\\Users\\admin\\AppData\\Local\\Temp\\ipykernel_5724\\3066620049.py\"\u001b[1;36m, line \u001b[1;32m3\u001b[0m\n\u001b[1;33m    #pending\u001b[0m\n\u001b[1;37m            ^\u001b[0m\n\u001b[1;31mSyntaxError\u001b[0m\u001b[1;31m:\u001b[0m unexpected EOF while parsing\n"
     ]
    }
   ],
   "source": [
    "# 36. Write a Python program to count the elements in a list until an element is a tuple\n",
    "list1 = [(1,20),5,4,6]"
   ]
  },
  {
   "cell_type": "code",
   "execution_count": 86,
   "id": "fa57e84a",
   "metadata": {},
   "outputs": [
    {
     "name": "stdout",
     "output_type": "stream",
     "text": [
      "a i s n t "
     ]
    }
   ],
   "source": [
    "# 37. Write a Python program to iteration over sets\n",
    "\n",
    "set1 = set('nitinsaini')\n",
    "for i in set1:\n",
    "    print(i,end=' ')"
   ]
  },
  {
   "cell_type": "code",
   "execution_count": 87,
   "id": "b00781cf",
   "metadata": {},
   "outputs": [
    {
     "name": "stdout",
     "output_type": "stream",
     "text": [
      "{'s', 'i', 't', 'n'}\n"
     ]
    }
   ],
   "source": [
    "# 38. Write a Python program to add member(s) in a set\n",
    "\n",
    "set1 = {'n','i','t','i'}\n",
    "set1.add('s')\n",
    "print(set1)"
   ]
  },
  {
   "cell_type": "code",
   "execution_count": 88,
   "id": "264f653a",
   "metadata": {},
   "outputs": [
    {
     "name": "stdout",
     "output_type": "stream",
     "text": [
      "{'s', 't', 'n'}\n"
     ]
    }
   ],
   "source": [
    "#39. Write a Python program to remove item(s) from set \n",
    "\n",
    "set1 = {'n','s','t','p'}\n",
    "set1.remove('p')\n",
    "print(set1)"
   ]
  },
  {
   "cell_type": "code",
   "execution_count": 17,
   "id": "6efc232e",
   "metadata": {},
   "outputs": [
    {
     "name": "stdout",
     "output_type": "stream",
     "text": [
      "Help on class set in module builtins:\n",
      "\n",
      "class set(object)\n",
      " |  set() -> new empty set object\n",
      " |  set(iterable) -> new set object\n",
      " |  \n",
      " |  Build an unordered collection of unique elements.\n",
      " |  \n",
      " |  Methods defined here:\n",
      " |  \n",
      " |  __and__(self, value, /)\n",
      " |      Return self&value.\n",
      " |  \n",
      " |  __contains__(...)\n",
      " |      x.__contains__(y) <==> y in x.\n",
      " |  \n",
      " |  __eq__(self, value, /)\n",
      " |      Return self==value.\n",
      " |  \n",
      " |  __ge__(self, value, /)\n",
      " |      Return self>=value.\n",
      " |  \n",
      " |  __getattribute__(self, name, /)\n",
      " |      Return getattr(self, name).\n",
      " |  \n",
      " |  __gt__(self, value, /)\n",
      " |      Return self>value.\n",
      " |  \n",
      " |  __iand__(self, value, /)\n",
      " |      Return self&=value.\n",
      " |  \n",
      " |  __init__(self, /, *args, **kwargs)\n",
      " |      Initialize self.  See help(type(self)) for accurate signature.\n",
      " |  \n",
      " |  __ior__(self, value, /)\n",
      " |      Return self|=value.\n",
      " |  \n",
      " |  __isub__(self, value, /)\n",
      " |      Return self-=value.\n",
      " |  \n",
      " |  __iter__(self, /)\n",
      " |      Implement iter(self).\n",
      " |  \n",
      " |  __ixor__(self, value, /)\n",
      " |      Return self^=value.\n",
      " |  \n",
      " |  __le__(self, value, /)\n",
      " |      Return self<=value.\n",
      " |  \n",
      " |  __len__(self, /)\n",
      " |      Return len(self).\n",
      " |  \n",
      " |  __lt__(self, value, /)\n",
      " |      Return self<value.\n",
      " |  \n",
      " |  __ne__(self, value, /)\n",
      " |      Return self!=value.\n",
      " |  \n",
      " |  __or__(self, value, /)\n",
      " |      Return self|value.\n",
      " |  \n",
      " |  __rand__(self, value, /)\n",
      " |      Return value&self.\n",
      " |  \n",
      " |  __reduce__(...)\n",
      " |      Return state information for pickling.\n",
      " |  \n",
      " |  __repr__(self, /)\n",
      " |      Return repr(self).\n",
      " |  \n",
      " |  __ror__(self, value, /)\n",
      " |      Return value|self.\n",
      " |  \n",
      " |  __rsub__(self, value, /)\n",
      " |      Return value-self.\n",
      " |  \n",
      " |  __rxor__(self, value, /)\n",
      " |      Return value^self.\n",
      " |  \n",
      " |  __sizeof__(...)\n",
      " |      S.__sizeof__() -> size of S in memory, in bytes\n",
      " |  \n",
      " |  __sub__(self, value, /)\n",
      " |      Return self-value.\n",
      " |  \n",
      " |  __xor__(self, value, /)\n",
      " |      Return self^value.\n",
      " |  \n",
      " |  add(...)\n",
      " |      Add an element to a set.\n",
      " |      \n",
      " |      This has no effect if the element is already present.\n",
      " |  \n",
      " |  clear(...)\n",
      " |      Remove all elements from this set.\n",
      " |  \n",
      " |  copy(...)\n",
      " |      Return a shallow copy of a set.\n",
      " |  \n",
      " |  difference(...)\n",
      " |      Return the difference of two or more sets as a new set.\n",
      " |      \n",
      " |      (i.e. all elements that are in this set but not the others.)\n",
      " |  \n",
      " |  difference_update(...)\n",
      " |      Remove all elements of another set from this set.\n",
      " |  \n",
      " |  discard(...)\n",
      " |      Remove an element from a set if it is a member.\n",
      " |      \n",
      " |      If the element is not a member, do nothing.\n",
      " |  \n",
      " |  intersection(...)\n",
      " |      Return the intersection of two sets as a new set.\n",
      " |      \n",
      " |      (i.e. all elements that are in both sets.)\n",
      " |  \n",
      " |  intersection_update(...)\n",
      " |      Update a set with the intersection of itself and another.\n",
      " |  \n",
      " |  isdisjoint(...)\n",
      " |      Return True if two sets have a null intersection.\n",
      " |  \n",
      " |  issubset(...)\n",
      " |      Report whether another set contains this set.\n",
      " |  \n",
      " |  issuperset(...)\n",
      " |      Report whether this set contains another set.\n",
      " |  \n",
      " |  pop(...)\n",
      " |      Remove and return an arbitrary set element.\n",
      " |      Raises KeyError if the set is empty.\n",
      " |  \n",
      " |  remove(...)\n",
      " |      Remove an element from a set; it must be a member.\n",
      " |      \n",
      " |      If the element is not a member, raise a KeyError.\n",
      " |  \n",
      " |  symmetric_difference(...)\n",
      " |      Return the symmetric difference of two sets as a new set.\n",
      " |      \n",
      " |      (i.e. all elements that are in exactly one of the sets.)\n",
      " |  \n",
      " |  symmetric_difference_update(...)\n",
      " |      Update a set with the symmetric difference of itself and another.\n",
      " |  \n",
      " |  union(...)\n",
      " |      Return the union of sets as a new set.\n",
      " |      \n",
      " |      (i.e. all elements that are in either set.)\n",
      " |  \n",
      " |  update(...)\n",
      " |      Update a set with the union of itself and others.\n",
      " |  \n",
      " |  ----------------------------------------------------------------------\n",
      " |  Class methods defined here:\n",
      " |  \n",
      " |  __class_getitem__(...) from builtins.type\n",
      " |      See PEP 585\n",
      " |  \n",
      " |  ----------------------------------------------------------------------\n",
      " |  Static methods defined here:\n",
      " |  \n",
      " |  __new__(*args, **kwargs) from builtins.type\n",
      " |      Create and return a new object.  See help(type) for accurate signature.\n",
      " |  \n",
      " |  ----------------------------------------------------------------------\n",
      " |  Data and other attributes defined here:\n",
      " |  \n",
      " |  __hash__ = None\n",
      "\n"
     ]
    }
   ],
   "source": [
    "# 40. Write a Python program to remove an item from a set if it is present in the set.\n",
    "set1 = {'n','s','t','p'}\n"
   ]
  },
  {
   "cell_type": "code",
   "execution_count": 90,
   "id": "89a8cd51",
   "metadata": {},
   "outputs": [
    {
     "name": "stdout",
     "output_type": "stream",
     "text": [
      "{'nitin'}\n"
     ]
    }
   ],
   "source": [
    "# 41. Write a Python program to create an intersection of sets.\n",
    "\n",
    "set1 = {'nitin','saini'}\n",
    "set2 = {'ajay','nitin'}\n",
    "print(set1 & set2)"
   ]
  },
  {
   "cell_type": "code",
   "execution_count": 91,
   "id": "c70c7993",
   "metadata": {},
   "outputs": [
    {
     "name": "stdout",
     "output_type": "stream",
     "text": [
      "{'saini', 'nitin'}\n"
     ]
    }
   ],
   "source": [
    "# 42. Write a Python program to create a symmetric difference\n",
    "\n",
    "set1 = {'nitin','ajay'}\n",
    "set2 = {'ajay','saini'}\n",
    "print(set1.symmetric_difference(set2))"
   ]
  },
  {
   "cell_type": "code",
   "execution_count": 92,
   "id": "8ed6ea68",
   "metadata": {},
   "outputs": [
    {
     "name": "stdout",
     "output_type": "stream",
     "text": [
      "max value is  99\n",
      "min value is  0\n"
     ]
    }
   ],
   "source": [
    "# 43. Write a Python program to find maximum and the minimum value in a set.\n",
    "set1 = {1,5,8,99,5,12,15,0}\n",
    "print('max value is ',max(set1))\n",
    "print('min value is ',min(set1))"
   ]
  },
  {
   "cell_type": "code",
   "execution_count": 93,
   "id": "0e4080b4",
   "metadata": {},
   "outputs": [
    {
     "data": {
      "text/plain": [
       "4"
      ]
     },
     "execution_count": 93,
     "metadata": {},
     "output_type": "execute_result"
    }
   ],
   "source": [
    "# 44. Write a Python program to find the length of a set.\n",
    "\n",
    "set1 = {5,55,98,'nitin'}\n",
    "\n",
    "len(set1)"
   ]
  },
  {
   "cell_type": "code",
   "execution_count": 1,
   "id": "c6ef028e",
   "metadata": {},
   "outputs": [
    {
     "name": "stdout",
     "output_type": "stream",
     "text": [
      "* \n",
      "* * \n",
      "* * * \n",
      "* * * * \n",
      "* * * * * \n",
      "* * * * \n",
      "* * * \n",
      "* * \n",
      "* \n"
     ]
    }
   ],
   "source": [
    "#45. Write a Python program to construct the following pattern, using a nested for loop. \n",
    "#  * \n",
    "#  * * \n",
    "#  * * * \n",
    "#  * * * * \n",
    "#  * * * * * \n",
    "#  * * * * \n",
    "#  * * * \n",
    "#  * * \n",
    "#  *\n",
    "\n",
    "n = 5\n",
    "for i in range(1,n+1):\n",
    "    print(i*'* ')\n",
    "for j in range(n-1,0,-1):\n",
    "    print(j*'* ')"
   ]
  },
  {
   "cell_type": "code",
   "execution_count": 95,
   "id": "d974d10e",
   "metadata": {},
   "outputs": [
    {
     "name": "stdout",
     "output_type": "stream",
     "text": [
      "number of odd number is 4\n",
      "number of even number is 5\n"
     ]
    }
   ],
   "source": [
    "# 46. Write a Python program to count the number of even and odd numbers from a series of numbers. \n",
    "# * Sample numbers : numbers = (1, 2, 3, 4, 5, 6, 7, 8, 9) \n",
    "# Expected Output : \n",
    "# * Number of even numbers : 5\n",
    "# * Number of odd numbers : 4\n",
    "\n",
    "number = (1,2,3,4,5,6,7,8,9)\n",
    "odd_num = 0\n",
    "even_num = 0\n",
    "for num in number:\n",
    "    if num%2 == 0:\n",
    "        odd_num+=1\n",
    "    else:\n",
    "        even_num+=1\n",
    "print('number of odd number is',odd_num)\n",
    "print('number of even number is',even_num)\n",
    "        "
   ]
  },
  {
   "cell_type": "code",
   "execution_count": 96,
   "id": "2c5d30e8",
   "metadata": {},
   "outputs": [
    {
     "name": "stdout",
     "output_type": "stream",
     "text": [
      "0 1 2 4 5 "
     ]
    }
   ],
   "source": [
    "# 47. Write a Python program that prints all the numbers from 0 to 6 except 3 and 6.\n",
    "# * Note : Use 'continue' statement. \n",
    "# * Expected Output : 0 1 2 4 5\n",
    "for i in range(0,7):\n",
    "    if (i==3 or i==6):\n",
    "        continue\n",
    "    print(i, end = ' ')"
   ]
  },
  {
   "cell_type": "code",
   "execution_count": 97,
   "id": "3750c583",
   "metadata": {},
   "outputs": [
    {
     "name": "stdout",
     "output_type": "stream",
     "text": [
      "1 1 2 3 5 8 13 21 34 "
     ]
    }
   ],
   "source": [
    "#48. Write a Python program to get the Fibonacci series between 0 to 50. \n",
    "#--- Note : The Fibonacci Sequence is the series of numbers :\n",
    "# * 0, 1, 1, 2, 3, 5, 8, 13, 21, .... \n",
    "# * Every next number is found by adding up the two numbers before it.\n",
    "# * Expected Output : 1 1 2 3 5 8 13 21 34\n",
    "x,y=0,1\n",
    "\n",
    "while y<50:\n",
    "    print(y,end=' ')\n",
    "    x,y = y,x+y\n",
    "\n",
    "        "
   ]
  },
  {
   "cell_type": "code",
   "execution_count": 18,
   "id": "108b5d30",
   "metadata": {},
   "outputs": [
    {
     "name": "stdout",
     "output_type": "stream",
     "text": [
      "[[0, 0, 0, 0], [0, 1, 2, 3], [0, 2, 4, 6]]\n"
     ]
    }
   ],
   "source": [
    "#49. Write a Python program which takes two digits m (row) and n (column) as input and \n",
    "# generates a two-dimensional array. The element value in the i-th row and j-th column of the array should be i*j. \n",
    "# # Note :\n",
    "# * i = 0,1.., m-1 \n",
    "# * j = 0,1, n-1.\n",
    "# * Test Data : Rows = 3, Columns = 4 \n",
    "# * Expected Result : [[0, 0, 0, 0], [0, 1, 2, 3], [0, 2, 4, 6]]\n",
    "\n",
    "rows , columns = 3, 4\n",
    "\n",
    "row_li = []\n",
    "for i in range(rows):\n",
    "    li = []\n",
    "    for j in range(columns):\n",
    "        li.append(i*j)\n",
    "    row_li.append(li)\n",
    "\n",
    "print(row_li)"
   ]
  },
  {
   "cell_type": "code",
   "execution_count": 27,
   "id": "4abfa6ee",
   "metadata": {},
   "outputs": [
    {
     "ename": "SyntaxError",
     "evalue": "invalid syntax (2408947723.py, line 20)",
     "output_type": "error",
     "traceback": [
      "\u001b[1;36m  File \u001b[1;32m\"C:\\Users\\admin\\AppData\\Local\\Temp\\ipykernel_8088\\2408947723.py\"\u001b[1;36m, line \u001b[1;32m20\u001b[0m\n\u001b[1;33m    (li,end=',')\u001b[0m\n\u001b[1;37m           ^\u001b[0m\n\u001b[1;31mSyntaxError\u001b[0m\u001b[1;31m:\u001b[0m invalid syntax\n"
     ]
    }
   ],
   "source": [
    "# 50. Write a Python program to find numbers between 100 and 400 (both included) where \n",
    "#     each digit of a number is an even number. The numbers obtained should be printed in a comma-separated sequence.\n",
    "\n",
    "def is_even(val):\n",
    "    return val % 2 == 0\n",
    "\n",
    "def is_each_digit_even(val):\n",
    "    count_even = 0\n",
    "    for x in list(str(val)):\n",
    "        if is_even(int(x)):\n",
    "            count_even += 1\n",
    "    return count_even == 3\n",
    "\n",
    "li = []\n",
    "for val in range(100, 401):\n",
    "    if is_each_digit_even(val):\n",
    "        li.append(val)\n",
    "\n",
    "        \n",
    "(li,end=',')"
   ]
  },
  {
   "cell_type": "code",
   "execution_count": 5,
   "id": "483b9f82",
   "metadata": {},
   "outputs": [
    {
     "name": "stdout",
     "output_type": "stream",
     "text": [
      "5\n",
      "    *    \n",
      "   * *   \n",
      "  *****  \n",
      " *     * \n",
      "*       * \n"
     ]
    }
   ],
   "source": [
    "# 51. Write a Python program to print alphabet pattern 'A'\n",
    "\n",
    "num = int(input())\n",
    "for i in range(num):\n",
    "    str1=''\n",
    "    if i==num//2:\n",
    "        print(('*'*num).center((2*num)-1))\n",
    "    else:\n",
    "        for j in range (i+1):\n",
    "            if j==0 or j==i:\n",
    "                str1 += '* '\n",
    "            else:\n",
    "                str1 += '  '\n",
    "        print(str1.center((2*num)-1))\n",
    "\n"
   ]
  },
  {
   "cell_type": "code",
   "execution_count": 6,
   "id": "2bca5658",
   "metadata": {},
   "outputs": [
    {
     "name": "stdout",
     "output_type": "stream",
     "text": [
      "50\n",
      "*************************\n",
      "*                        *\n",
      "*                        *\n",
      "*                        *\n",
      "*                        *\n",
      "*                        *\n",
      "*                        *\n",
      "*                        *\n",
      "*                        *\n",
      "*                        *\n",
      "*                        *\n",
      "*                        *\n",
      "*                        *\n",
      "*                        *\n",
      "*                        *\n",
      "*                        *\n",
      "*                        *\n",
      "*                        *\n",
      "*                        *\n",
      "*                        *\n",
      "*                        *\n",
      "*                        *\n",
      "*                        *\n",
      "*                        *\n",
      "*                        *\n",
      "*************************\n",
      "*\n",
      "*\n",
      "*\n",
      "*\n",
      "*\n",
      "*\n",
      "*\n",
      "*\n",
      "*\n",
      "*\n",
      "*\n",
      "*\n",
      "*\n",
      "*\n",
      "*\n",
      "*\n",
      "*\n",
      "*\n",
      "*\n",
      "*\n",
      "*\n",
      "*\n",
      "*\n",
      "*\n"
     ]
    }
   ],
   "source": [
    "# 52. Write a Python program to print alphabet pattern 'P'\n",
    "\n",
    "\n",
    "num = int(input())\n",
    "for i in range(1,num):\n",
    "    if i==1 or i==num//2:\n",
    "        print('*'*(num//2))\n",
    "    if i<num//2:\n",
    "        print('*',' '*((num//2)-3),'*')\n",
    "    if i>num//2:\n",
    "        print('*')"
   ]
  },
  {
   "cell_type": "code",
   "execution_count": 103,
   "id": "88cd1995",
   "metadata": {},
   "outputs": [],
   "source": [
    "#53. Write a Python program to check a triangle is valid or not.\n",
    "\n"
   ]
  },
  {
   "cell_type": "code",
   "execution_count": 104,
   "id": "380d2dcc",
   "metadata": {},
   "outputs": [
    {
     "name": "stdout",
     "output_type": "stream",
     "text": [
      "10\n",
      "10 x 1 = 10\n",
      "10 x 2 = 20\n",
      "10 x 3 = 30\n",
      "10 x 4 = 40\n",
      "10 x 5 = 50\n",
      "10 x 6 = 60\n",
      "10 x 7 = 70\n",
      "10 x 8 = 80\n",
      "10 x 9 = 90\n",
      "10 x 10 = 100\n"
     ]
    }
   ],
   "source": [
    "#54. Write a Python program to create the multiplication table (from 1 to 10) of a number.\n",
    "num = int(input())\n",
    "for i in range(1, 11):\n",
    "      print(num, 'x', i, '=', num*i)"
   ]
  },
  {
   "cell_type": "code",
   "execution_count": 105,
   "id": "532fa78a",
   "metadata": {},
   "outputs": [
    {
     "name": "stdout",
     "output_type": "stream",
     "text": [
      "\n",
      "1\n",
      "22\n",
      "333\n",
      "4444\n",
      "55555\n",
      "666666\n",
      "7777777\n",
      "88888888\n",
      "999999999\n"
     ]
    }
   ],
   "source": [
    "# 55. Write a Python program to construct the following pattern, using a nested loop number.\n",
    "# 1\n",
    "# 22\n",
    "# 333\n",
    "# 4444\n",
    "# 55555\n",
    "# 666666\n",
    "# 7777777\n",
    "# 88888888\n",
    "#999999999\n",
    "\n",
    "for i in range(10):\n",
    "    print(str(i) * i)"
   ]
  },
  {
   "cell_type": "code",
   "execution_count": 106,
   "id": "5e14f964",
   "metadata": {},
   "outputs": [
    {
     "name": "stdout",
     "output_type": "stream",
     "text": [
      "700 99 88\n"
     ]
    }
   ],
   "source": [
    "# 56. Write a Python function to find the Max of three numbers.\n",
    "\n",
    "func1 = [1,5,8,9,6,3,5,88,99,700]\n",
    "func1.sort()\n",
    "print(func1[-1],func1[-2],func1[-3])"
   ]
  },
  {
   "cell_type": "code",
   "execution_count": 107,
   "id": "aa55385d",
   "metadata": {},
   "outputs": [
    {
     "data": {
      "text/plain": [
       "212"
      ]
     },
     "execution_count": 107,
     "metadata": {},
     "output_type": "execute_result"
    }
   ],
   "source": [
    "# 57. Write a Python function to sum all the numbers in a list\n",
    "\n",
    "func1 = [1,5,6,100,100]\n",
    "sum(func1)"
   ]
  },
  {
   "cell_type": "code",
   "execution_count": 108,
   "id": "7e01e75e",
   "metadata": {},
   "outputs": [
    {
     "name": "stdout",
     "output_type": "stream",
     "text": [
      "120\n"
     ]
    }
   ],
   "source": [
    "#58. Write a Python function to multiply all the numbers in a list\n",
    "\n",
    "func = [1,2,3,4,5]\n",
    "func1 = 1\n",
    "for i in func:\n",
    "    func1 = func1 * i\n",
    "print(func1)\n"
   ]
  },
  {
   "cell_type": "code",
   "execution_count": 109,
   "id": "74fb2734",
   "metadata": {},
   "outputs": [
    {
     "name": "stdout",
     "output_type": "stream",
     "text": [
      "uppercase letter is 3\n",
      "lowercase letter is 7\n"
     ]
    }
   ],
   "source": [
    "# 59. Write a Python function that accepts a string and calculate the number of upper case letters and lower case letters\n",
    "\n",
    "str1 = 'niTiNsAini'\n",
    "countupper = 0\n",
    "countlower = 0\n",
    "for i in str1:\n",
    "    if i==i.upper():\n",
    "        countupper +=1\n",
    "    if i==i.lower():\n",
    "        countlower +=1\n",
    "print('uppercase letter is',countupper)\n",
    "print('lowercase letter is',countlower)\n",
    "\n"
   ]
  },
  {
   "cell_type": "code",
   "execution_count": 110,
   "id": "8e555db4",
   "metadata": {},
   "outputs": [
    {
     "data": {
      "text/plain": [
       "{1, 2, 3, 5, 6, 9}"
      ]
     },
     "execution_count": 110,
     "metadata": {},
     "output_type": "execute_result"
    }
   ],
   "source": [
    "# 60. Write a Python function that takes a list and returns a new list with unique elements of the first list.\n",
    "\n",
    "list1 = [2,5,6,9,9,1,2,3,1,2,3]\n",
    "set(list1)"
   ]
  },
  {
   "cell_type": "code",
   "execution_count": 111,
   "id": "0cec746f",
   "metadata": {},
   "outputs": [
    {
     "name": "stdout",
     "output_type": "stream",
     "text": [
      "2 6 8 44 "
     ]
    }
   ],
   "source": [
    "# 61. Write a Python program to print the even numbers from a given list\n",
    "\n",
    "list1 = [2,5,6,9,8,7,9,55,44]\n",
    "for i in list1:\n",
    "    if i%2 ==0:\n",
    "        print(i,end=' ')"
   ]
  },
  {
   "cell_type": "code",
   "execution_count": 112,
   "id": "2f76dc10",
   "metadata": {},
   "outputs": [],
   "source": [
    "# 62. Write a Python function that checks whether a passed string is palindrome or not\n",
    "\n",
    "\n"
   ]
  },
  {
   "cell_type": "code",
   "execution_count": 29,
   "id": "d08cbed2",
   "metadata": {},
   "outputs": [
    {
     "name": "stdout",
     "output_type": "stream",
     "text": [
      "2\n"
     ]
    }
   ],
   "source": [
    "# 63. Write a Python program to detect the number of local variables declared in a function.\n",
    "\n",
    "def fun():\n",
    "    a = 1\n",
    "    str = 'GeeksForGeeks'\n",
    "    \n",
    "    \n",
    "print(fun.__code__.co_nlocals)"
   ]
  },
  {
   "cell_type": "code",
   "execution_count": 115,
   "id": "a85f28fa",
   "metadata": {},
   "outputs": [],
   "source": []
  },
  {
   "cell_type": "code",
   "execution_count": null,
   "id": "702bd26c",
   "metadata": {},
   "outputs": [],
   "source": []
  }
 ],
 "metadata": {
  "kernelspec": {
   "display_name": "Python 3 (ipykernel)",
   "language": "python",
   "name": "python3"
  },
  "language_info": {
   "codemirror_mode": {
    "name": "ipython",
    "version": 3
   },
   "file_extension": ".py",
   "mimetype": "text/x-python",
   "name": "python",
   "nbconvert_exporter": "python",
   "pygments_lexer": "ipython3",
   "version": "3.9.13"
  }
 },
 "nbformat": 4,
 "nbformat_minor": 5
}
