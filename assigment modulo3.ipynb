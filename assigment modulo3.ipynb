{
 "cells": [
  {
   "cell_type": "code",
   "execution_count": null,
   "id": "759096e5",
   "metadata": {},
   "outputs": [],
   "source": [
    "#ans 1\n",
    "#A list is a data structure in Python that is a mutable, or changeable, ordered sequence of elements.\n",
    "list1=[1,5,2,6,8,9]\n",
    "list1.reverse()\n",
    "print(list1)"
   ]
  },
  {
   "cell_type": "code",
   "execution_count": null,
   "id": "d212708c",
   "metadata": {},
   "outputs": [],
   "source": [
    "#ans2\n",
    "list2 = [5,6,8,9,7,2]\n",
    "list2.pop()\n",
    "print(list2)"
   ]
  },
  {
   "cell_type": "code",
   "execution_count": null,
   "id": "c1d049ce",
   "metadata": {},
   "outputs": [],
   "source": [
    "#ans3\n",
    "list1 = [2,33,222,14,25]\n",
    "list1[-1]\n",
    "#ans is 25."
   ]
  },
  {
   "cell_type": "code",
   "execution_count": 1,
   "id": "34c83c86",
   "metadata": {},
   "outputs": [
    {
     "name": "stdout",
     "output_type": "stream",
     "text": [
      "[1, 5, 2, 6, 'nitin']\n",
      "[5, 6, 8, 9, 'n', 'i', 't', 'i', 'n']\n"
     ]
    }
   ],
   "source": [
    "#ans4\n",
    "\n",
    "#append = Adds element at the last index.\n",
    "#example\n",
    "list1 = [1,5,2,6]\n",
    "list1.append('nitin')\n",
    "print(list1)\n",
    "#extend = adds iterable at the last index.\n",
    "#example\n",
    "list2 = [5,6,8,9]\n",
    "list2.extend('nitin')\n",
    "print(list2)"
   ]
  },
  {
   "cell_type": "code",
   "execution_count": 2,
   "id": "e2e3c789",
   "metadata": {},
   "outputs": [
    {
     "name": "stdout",
     "output_type": "stream",
     "text": [
      "largest number 66\n",
      "smallest number 5\n"
     ]
    }
   ],
   "source": [
    "#ans5\n",
    "# 1.get the largest number\n",
    "list1 =[5,6,9,8,55,22,66,42,36]\n",
    "list1.sort()\n",
    "print('largest number',list1[-1])\n",
    "print('smallest number',list1[0])"
   ]
  },
  {
   "cell_type": "code",
   "execution_count": 3,
   "id": "dc00cf55",
   "metadata": {},
   "outputs": [
    {
     "name": "stdout",
     "output_type": "stream",
     "text": [
      "list1 cand list2 are equal\n"
     ]
    }
   ],
   "source": [
    "#ans6\n",
    "list1=[1,2,5,6]\n",
    "list2=[1,2,5,6]\n",
    "if list1==list2:\n",
    "    print('list1 cand list2 are equal')\n",
    "else:\n",
    "    print('list1 and list2 are not equal')"
   ]
  },
  {
   "cell_type": "code",
   "execution_count": 4,
   "id": "e49ed1b4",
   "metadata": {},
   "outputs": [
    {
     "name": "stdout",
     "output_type": "stream",
     "text": [
      "nitin\n",
      "nn\n"
     ]
    }
   ],
   "source": [
    "#ans7\n",
    "listt = ['nitin','saini','student','nn','n']\n",
    "for i in listt:\n",
    "    if len(i)>=2:\n",
    "        if i[0]==i[-1]:\n",
    "            print(i)"
   ]
  },
  {
   "cell_type": "code",
   "execution_count": 5,
   "id": "e1df30ff",
   "metadata": {},
   "outputs": [
    {
     "data": {
      "text/plain": [
       "{1, 3, 5, 8, 9}"
      ]
     },
     "execution_count": 5,
     "metadata": {},
     "output_type": "execute_result"
    }
   ],
   "source": [
    "#ans8\n",
    "list1=[1,5,8,9,9,9,9,3,5]\n",
    "set(list1)\n"
   ]
  },
  {
   "cell_type": "code",
   "execution_count": 6,
   "id": "d5644222",
   "metadata": {},
   "outputs": [
    {
     "name": "stdout",
     "output_type": "stream",
     "text": [
      "list is empty\n"
     ]
    }
   ],
   "source": [
    "#ans9\n",
    "list1 = []\n",
    "if len(list1)==0:\n",
    "    print('list is empty')\n",
    "else:\n",
    "    print('list is not empty')"
   ]
  },
  {
   "cell_type": "code",
   "execution_count": null,
   "id": "8df3b334",
   "metadata": {},
   "outputs": [],
   "source": [
    "#ans10\n",
    "list1 = [1,2,6,7,3,4,8,9,10,55]\n",
    "list2 = [1,6,7,9,2,3,4,8,10,55]\n",
    "ans = False\n",
    "for i in list1:\n",
    "    if i in list2:\n",
    "        continue\n",
    "    else:\n",
    "        print(ans)\n",
    "        break\n",
    "else:\n",
    "    ans = True\n",
    "    print(ans)\n"
   ]
  },
  {
   "cell_type": "code",
   "execution_count": null,
   "id": "5daf7a4e",
   "metadata": {},
   "outputs": [],
   "source": [
    "#ans11\n",
    "listtt = [1,2,3,4,5,26,27,28,29,30]\n",
    "for i in listtt:\n",
    "    a = (i**i)\n",
    "    print(a)\n"
   ]
  },
  {
   "cell_type": "code",
   "execution_count": null,
   "id": "b4567df3",
   "metadata": {},
   "outputs": [],
   "source": [
    "#ans12\n",
    "list1 = [5,2,8,9,5,5,5,6,6,6,6,7,7,7]\n",
    "list2 = set(list1)\n",
    "x = list(list2)\n",
    "print(x)"
   ]
  },
  {
   "cell_type": "code",
   "execution_count": null,
   "id": "71d682b2",
   "metadata": {},
   "outputs": [],
   "source": [
    "#ans13\n",
    "\n",
    "list1 = ['n', 'i', 't', 'i', 'n']\n",
    "str1 = ''\n",
    "for i in list1:\n",
    "    str1 += i\n",
    "print(str1)"
   ]
  },
  {
   "cell_type": "code",
   "execution_count": null,
   "id": "72d80457",
   "metadata": {},
   "outputs": [],
   "source": [
    "#ans14\n",
    "list1 = [1,8,9,5,66,88,75,95]\n",
    "\n",
    "#sir x"
   ]
  },
  {
   "cell_type": "code",
   "execution_count": null,
   "id": "ebfb0f58",
   "metadata": {},
   "outputs": [],
   "source": [
    "#ans15\n",
    "list1 = [5,6,8,9,88,2,1,5,1]\n",
    "list1.sort()\n",
    "print(list1[1])"
   ]
  },
  {
   "cell_type": "code",
   "execution_count": null,
   "id": "35318174",
   "metadata": {},
   "outputs": [],
   "source": [
    "#ans16\n",
    "list1_list1 = [5,6,5,6,5,9,5,8,55,6,9,5,8,5,5,5]\n",
    "list2_list2 = set(list1_list1)\n",
    "print(list2_list2)"
   ]
  },
  {
   "cell_type": "code",
   "execution_count": null,
   "id": "e9f8ad15",
   "metadata": {},
   "outputs": [],
   "source": [
    "#ans17\n",
    "list1 = ['nitin',{1,2,5,6},[1,5,6,6],50,5.0]\n",
    "for i in list1:\n",
    "    if type(i)==list:\n",
    "        print(i,'true')\n",
    "        break\n",
    "else:\n",
    "    print('false')"
   ]
  },
  {
   "cell_type": "code",
   "execution_count": 20,
   "id": "c0d8fd91",
   "metadata": {},
   "outputs": [
    {
     "name": "stdout",
     "output_type": "stream",
     "text": [
      "[1, 2, 3, 4, 5] [6, 7, 8, 9, 10]\n"
     ]
    }
   ],
   "source": [
    "#ans18\n",
    "listt = [1,2,3,4,5,6,7,8,9,10]\n",
    "list1 = listt[:5]\n",
    "list2 = listt[-5:]\n",
    "print(list1,list2)\n",
    "\n",
    "\n"
   ]
  },
  {
   "cell_type": "code",
   "execution_count": null,
   "id": "13ebc945",
   "metadata": {},
   "outputs": [],
   "source": [
    "#ans19\n",
    "#tuple:- ordered,indexed,immutable,allow duplicate values, u can store almost all datatypes.\n",
    "\n",
    "#Difference btw tuple ans list:-\n",
    "#list:-A list is a data structure in Python that is a mutable, or changeable, ordered sequence of elements.\n",
    "##tuple:- ordered,indexed,immutable,allow duplicate values, u can store almost all datatypes"
   ]
  },
  {
   "cell_type": "code",
   "execution_count": null,
   "id": "7a38811a",
   "metadata": {},
   "outputs": [],
   "source": [
    "#ans20\n",
    "tuple1 = (15,5.0,[1,2,3],{1,5,6},{1:2,2:3},'nitin',True,(1,5,6))\n",
    "print(tuple1)"
   ]
  },
  {
   "cell_type": "code",
   "execution_count": null,
   "id": "43861fa1",
   "metadata": {},
   "outputs": [],
   "source": [
    "#ans21\n",
    "tuple1 = 5,10,23,20\n",
    "print(tuple1)"
   ]
  },
  {
   "cell_type": "code",
   "execution_count": null,
   "id": "54065183",
   "metadata": {},
   "outputs": [],
   "source": [
    "#ans22\n",
    "tuplee = ('n', 'i', 't', 'i', 'n')\n",
    "str1 = ''\n",
    "for i in tuplee:\n",
    "    str1 += i\n",
    "print(str1)"
   ]
  },
  {
   "cell_type": "code",
   "execution_count": 7,
   "id": "c3051ee3",
   "metadata": {},
   "outputs": [
    {
     "name": "stdout",
     "output_type": "stream",
     "text": [
      "False\n"
     ]
    }
   ],
   "source": [
    "#ans23\n",
    "tuple_1 = (5,8,9,6,3,'n','t')\n",
    "print(55 in tuple_1)"
   ]
  },
  {
   "cell_type": "code",
   "execution_count": null,
   "id": "e12ada28",
   "metadata": {},
   "outputs": [],
   "source": [
    "#ans24\n",
    "tuple1 = (1,5,8,9,6,8,'nitin',[1,5,6,2])\n",
    "len(tuple1)"
   ]
  },
  {
   "cell_type": "code",
   "execution_count": null,
   "id": "6a73bc47",
   "metadata": {},
   "outputs": [],
   "source": [
    "#ans25\n",
    "list1 = [1,5,8,9,5,6,'nitin']\n",
    "tuple1 = tuple(list1)\n",
    "print(tuple1)"
   ]
  },
  {
   "cell_type": "code",
   "execution_count": null,
   "id": "851a6011",
   "metadata": {},
   "outputs": [],
   "source": [
    "#ans26\n",
    "tuple1 = (1,5,9,'ns',56,5.2)            \n",
    "a = list(tuple1)\n",
    "a.reverse()\n",
    "b = tuple(a)\n",
    "print(b)\n"
   ]
  },
  {
   "cell_type": "code",
   "execution_count": 9,
   "id": "91968bac",
   "metadata": {},
   "outputs": [
    {
     "name": "stdout",
     "output_type": "stream",
     "text": [
      "[(34, 45, 100), (5, 100), (90, 100), (12, 34, 100), (5, 6, 100), (5, 67, 100)]\n"
     ]
    }
   ],
   "source": [
    "#ans27\n",
    "list1 = [(34,45,56),(5,7),(90,34),(12,34,45),(5,6,7),(5,67,6)]\n",
    "idx= 0 \n",
    "for i in list1:\n",
    "    i = list(i)\n",
    "    i[-1] = 100\n",
    "    t1 = tuple(i)\n",
    "    list1[idx] = t1\n",
    "    idx+=1\n",
    "print(list1)"
   ]
  },
  {
   "cell_type": "code",
   "execution_count": null,
   "id": "3ab672a4",
   "metadata": {},
   "outputs": [],
   "source": [
    "#ans28\n",
    "tuplee = (1,5,5,6,6,8,9,9)\n",
    "tuplee.count(8)"
   ]
  },
  {
   "cell_type": "code",
   "execution_count": 21,
   "id": "728ea4cb",
   "metadata": {},
   "outputs": [
    {
     "name": "stdout",
     "output_type": "stream",
     "text": [
      "[('nitin',), ('iii',), (2, 5, 6, 4)]\n"
     ]
    }
   ],
   "source": [
    "#ans29\n",
    "tuplee = [('nitin',),(),(),('iii',),(),(),(2,5,6,4)]\n",
    "list1 = []\n",
    "for i in tuplee:\n",
    "    if len(i) != 0:\n",
    "        list1.append(i)\n",
    "    \n",
    "print(list1)"
   ]
  },
  {
   "cell_type": "code",
   "execution_count": null,
   "id": "476648dd",
   "metadata": {},
   "outputs": [],
   "source": [
    "#ans30\n",
    "a,b,c = (55,88,90)\n",
    "print(a,b,c)       #tuple unpacking(unzip)"
   ]
  },
  {
   "cell_type": "code",
   "execution_count": null,
   "id": "d6640caf",
   "metadata": {},
   "outputs": [],
   "source": [
    "#ans31\n",
    "tuplee1 = [(50,5),(66,6),(70,7)]\n",
    "list2 = dict(tuplee1)\n",
    "print(list2)"
   ]
  },
  {
   "cell_type": "code",
   "execution_count": 11,
   "id": "c119e67d",
   "metadata": {},
   "outputs": [
    {
     "data": {
      "text/plain": [
       "{'a': 10, 'b': 20, 'c': 30}"
      ]
     },
     "execution_count": 11,
     "metadata": {},
     "output_type": "execute_result"
    }
   ],
   "source": [
    "#ans32\n",
    "tuple1 = (('a', 10), ('b', 20), ('c', 30))\n",
    "dict(tuple1)"
   ]
  },
  {
   "cell_type": "code",
   "execution_count": 44,
   "id": "fb4140de",
   "metadata": {
    "scrolled": true
   },
   "outputs": [
    {
     "name": "stdout",
     "output_type": "stream",
     "text": [
      "ascending\n",
      "{'c': -5, 'd': 2, 'b': 50, 'a': 90}\n",
      "descending\n",
      "{'a': 90, 'b': 50, 'd': 2, 'c': -5}\n"
     ]
    }
   ],
   "source": [
    "#ans33\n",
    "dict1 = {'a':90,'b':50,'c':-5,'d':2}\n",
    "d1 = dict(sorted(dict1.items(),key = lambda a : a[1]))\n",
    "d2 = dict(sorted(dict1.items(),key = lambda a : a[1],reverse = True))\n",
    "print('ascending',d1,'descending',d2,sep = '\\n')"
   ]
  },
  {
   "cell_type": "code",
   "execution_count": 45,
   "id": "0748a4b1",
   "metadata": {},
   "outputs": [
    {
     "name": "stdout",
     "output_type": "stream",
     "text": [
      "{1: 5, 5: 2, 2: 10, 3: 6}\n"
     ]
    }
   ],
   "source": [
    "#ans34\n",
    "dict1 = {1:5,5:2}\n",
    "dict2 = {2:10,3:6}\n",
    "dict3 = {}\n",
    "for d in (dict1,dict2):\n",
    "    dict3.update(d)\n",
    "print(dict3)"
   ]
  },
  {
   "cell_type": "code",
   "execution_count": null,
   "id": "0998c7ed",
   "metadata": {},
   "outputs": [],
   "source": [
    "#ans35\n",
    "dictt = {'a':5,'b':6,'c':7,'d':8}\n",
    "key   = input()\n",
    "if key in dictt.keys():\n",
    "    print(key,'already exists')\n",
    "else:\n",
    "    print(key,'does not exists')"
   ]
  },
  {
   "cell_type": "code",
   "execution_count": 6,
   "id": "2c4c62be",
   "metadata": {},
   "outputs": [
    {
     "name": "stdout",
     "output_type": "stream",
     "text": [
      "a\n",
      "b\n",
      "c\n",
      "d\n"
     ]
    }
   ],
   "source": [
    "#ans36\n",
    "dict1 = {'a':90,'b':50,'c':-5,'d':2}\n",
    "for i in dict1:\n",
    "    print(i)"
   ]
  },
  {
   "cell_type": "code",
   "execution_count": null,
   "id": "22b35f7b",
   "metadata": {},
   "outputs": [],
   "source": [
    "#ans37\n",
    "dictt = {'a':5,'b':6,'c':7,'d':8}\n",
    "key   = input()\n",
    "if key in dictt.keys():\n",
    "    print(key,'present')\n",
    "else:\n",
    "    print(key,'not present')\n"
   ]
  },
  {
   "cell_type": "code",
   "execution_count": 16,
   "id": "1ba916dd",
   "metadata": {},
   "outputs": [
    {
     "name": "stdout",
     "output_type": "stream",
     "text": [
      "{1: None, 2: None, 3: None, 4: None, 5: None, 6: None, 7: None, 8: None, 9: None, 10: None, 11: None, 12: None, 13: None, 14: None, 15: None}\n"
     ]
    }
   ],
   "source": [
    "#ans38\n",
    "dict1 = dict()\n",
    "for i in range(1,16):\n",
    "    dict1[i] = None\n",
    "print(dict1)"
   ]
  },
  {
   "cell_type": "code",
   "execution_count": null,
   "id": "600a8d1f",
   "metadata": {},
   "outputs": [],
   "source": [
    "#ans39\n"
   ]
  },
  {
   "cell_type": "code",
   "execution_count": null,
   "id": "5500f3ff",
   "metadata": {},
   "outputs": [],
   "source": [
    "#ans40\n",
    "dict1 = {1:2,3:4,5:6}\n",
    "dict2 = {7:8,9:10,11:12}\n",
    "dict3 = dict1.copy()\n",
    "dict3.update(dict2)\n",
    "print(dict3)"
   ]
  },
  {
   "cell_type": "code",
   "execution_count": 46,
   "id": "b02f3cf6",
   "metadata": {},
   "outputs": [
    {
     "name": "stdout",
     "output_type": "stream",
     "text": [
      "{'nitin': 1, 'ankit': 2, 'pranav': 3}\n"
     ]
    }
   ],
   "source": [
    "#ans41\n",
    "list1 = ['nitin','ankit','pranav']\n",
    "list2 = [1,2,3]\n",
    "dict1 = dict(zip(list1,list2))\n",
    "print(dict1)"
   ]
  },
  {
   "cell_type": "code",
   "execution_count": 1,
   "id": "c1338a8b",
   "metadata": {},
   "outputs": [
    {
     "name": "stdout",
     "output_type": "stream",
     "text": [
      "{'a': 400, 'b': 400}\n"
     ]
    }
   ],
   "source": [
    "#ans42\n",
    "d1 = {'a':100,'b':200,'c':300}\n",
    "d2 = {'a':300,'b':200,'d':400}\n",
    "d3 = {}\n",
    "for key in d1:\n",
    "    if key in d2:\n",
    "        d3[key] = d2[key]+d1[key]             #sir se puchna h\n",
    "\n",
    "print(d3)"
   ]
  },
  {
   "cell_type": "code",
   "execution_count": 17,
   "id": "6eb9d155",
   "metadata": {},
   "outputs": [
    {
     "name": "stdout",
     "output_type": "stream",
     "text": [
      "{1, 2, 4}\n"
     ]
    }
   ],
   "source": [
    "#ans43\n",
    "dict1 = {'a':1,'b':2,'c':2,'d':4}\n",
    "dict2 = set (dict1.values())\n",
    "print(dict2)\n"
   ]
  },
  {
   "cell_type": "code",
   "execution_count": 18,
   "id": "21f7a677",
   "metadata": {},
   "outputs": [],
   "source": [
    "#ans44\n",
    "# ans = to bind object of multiple collection."
   ]
  },
  {
   "cell_type": "code",
   "execution_count": null,
   "id": "01ef5d88",
   "metadata": {},
   "outputs": [],
   "source": [
    "#ans45\n"
   ]
  }
 ],
 "metadata": {
  "kernelspec": {
   "display_name": "Python 3 (ipykernel)",
   "language": "python",
   "name": "python3"
  },
  "language_info": {
   "codemirror_mode": {
    "name": "ipython",
    "version": 3
   },
   "file_extension": ".py",
   "mimetype": "text/x-python",
   "name": "python",
   "nbconvert_exporter": "python",
   "pygments_lexer": "ipython3",
   "version": "3.9.12"
  }
 },
 "nbformat": 4,
 "nbformat_minor": 5
}
