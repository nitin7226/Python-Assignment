{
 "cells": [
  {
   "cell_type": "code",
   "execution_count": null,
   "id": "f8da9800",
   "metadata": {},
   "outputs": [],
   "source": [
    "#ans 1\n",
    "num=int(input())\n",
    "if num>0:\n",
    "    print('positive')\n",
    "elif num==0:            \n",
    "    print('zero')\n",
    "else:\n",
    "    \n",
    "    print('negative')"
   ]
  },
  {
   "cell_type": "code",
   "execution_count": null,
   "id": "20922273",
   "metadata": {},
   "outputs": [],
   "source": [
    "#ans2\n",
    "a=int(input())\n",
    "b=1\n",
    "while a!=0:\n",
    "    b=a*b\n",
    "    a-=1\n",
    "print(b)"
   ]
  },
  {
   "cell_type": "code",
   "execution_count": null,
   "id": "470f11c0",
   "metadata": {},
   "outputs": [],
   "source": [
    "#ans3\n",
    "n=int(input())\n",
    "a=0\n",
    "b=1\n",
    "c=0\n",
    "while c<=n:\n",
    "    print(c, end=' ')\n",
    "    a=b\n",
    "    b=c\n",
    "    c=a+b\n",
    "    \n",
    "    "
   ]
  },
  {
   "cell_type": "code",
   "execution_count": null,
   "id": "d53a9457",
   "metadata": {},
   "outputs": [],
   "source": [
    "#ans4\n",
    "#In Python memory is managed dynamically with private loop space"
   ]
  },
  {
   "cell_type": "code",
   "execution_count": null,
   "id": "374453bf",
   "metadata": {},
   "outputs": [],
   "source": [
    "#ans5\n",
    "#skips the rest of the current iteration and continues from the next iteration"
   ]
  },
  {
   "cell_type": "code",
   "execution_count": null,
   "id": "45e03c97",
   "metadata": {},
   "outputs": [],
   "source": [
    "#ans6\n",
    "a=int(input())\n",
    "b=int(input())\n",
    "temp=a\n",
    "a=b\n",
    "b=temp\n",
    "print(a,b)"
   ]
  },
  {
   "cell_type": "code",
   "execution_count": null,
   "id": "494ef0ec",
   "metadata": {},
   "outputs": [],
   "source": [
    "#ans7\n",
    "a=int(input()) \n",
    "if a%2==0:\n",
    "    print('even')\n",
    "else:\n",
    "    print('odd')"
   ]
  },
  {
   "cell_type": "code",
   "execution_count": null,
   "id": "01a08871",
   "metadata": {},
   "outputs": [],
   "source": [
    "#ans8\n",
    "v = input()\n",
    "if v in ('a','e','i','o','u','A','E','I','O','U'):\n",
    "    print('vowel')\n",
    "else:\n",
    "    print('not vowel')"
   ]
  },
  {
   "cell_type": "code",
   "execution_count": null,
   "id": "ba419fe6",
   "metadata": {},
   "outputs": [],
   "source": [
    "#ans9\n",
    "a=int(input())\n",
    "b=int(input())\n",
    "c=int(input())\n",
    "if a==b or b==c or c==a:\n",
    "    print('sum is zero')\n",
    "else:\n",
    "    print(a+b+c)"
   ]
  },
  {
   "cell_type": "code",
   "execution_count": null,
   "id": "9ea17e60",
   "metadata": {},
   "outputs": [],
   "source": [
    "#ans10\n",
    "a = int(input())\n",
    "\n",
    "b = int(input())\n",
    "\n",
    "if a+b ==5:\n",
    "    print('true')\n",
    "elif a-b==5:\n",
    "    print('true')\n",
    "elif a==b:\n",
    "    print('true')\n",
    "else:\n",
    "    print('false')"
   ]
  },
  {
   "cell_type": "code",
   "execution_count": null,
   "id": "27f3fd47",
   "metadata": {},
   "outputs": [],
   "source": [
    "#ans11\n",
    "a=int(input())\n",
    "b=1\n",
    "while a!=1:\n",
    "    b=a+b\n",
    "    a-=1\n",
    "    \n",
    "print(b)"
   ]
  },
  {
   "cell_type": "code",
   "execution_count": null,
   "id": "d53f2297",
   "metadata": {},
   "outputs": [],
   "source": [
    "#ans12\n",
    "str1='nitin saini'\n",
    "len(str1)"
   ]
  },
  {
   "cell_type": "code",
   "execution_count": null,
   "id": "8cf978b9",
   "metadata": {},
   "outputs": [],
   "source": [
    "#ans13\n",
    "a='nitin'\n",
    "str1=a.strip()\n",
    "for i in str1:\n",
    "    print(i,a.count(i))"
   ]
  },
  {
   "cell_type": "code",
   "execution_count": null,
   "id": "af25273e",
   "metadata": {},
   "outputs": [],
   "source": [
    "#ans14\n",
    "var1='this is python'\n",
    "var1[-2]\n",
    "#we can use negative indexing as your advantage when u want to pick values from the end right side of an iterable."
   ]
  },
  {
   "cell_type": "code",
   "execution_count": null,
   "id": "422f8f94",
   "metadata": {},
   "outputs": [],
   "source": [
    "#ans15\n",
    "str1 = 'nitinsaini'\n",
    "str1.count('n')\n"
   ]
  },
  {
   "cell_type": "code",
   "execution_count": null,
   "id": "a8adba46",
   "metadata": {},
   "outputs": [],
   "source": [
    "#ans16\n",
    "a = 'this is python langauge. It is a programming langauge.'\n",
    "str= a.split()\n",
    "for i in str:\n",
    "    print(i, str.count(i))"
   ]
  },
  {
   "cell_type": "code",
   "execution_count": null,
   "id": "290342e1",
   "metadata": {},
   "outputs": [],
   "source": [
    "#ans17\n",
    "a='nitin'\n",
    "b='saini'\n",
    "b[:2] + a[2:] + ' ' + a[:2] + b[2:]   \n"
   ]
  },
  {
   "cell_type": "code",
   "execution_count": null,
   "id": "c5b0dc0f",
   "metadata": {},
   "outputs": [],
   "source": [
    "#ans18\n",
    "a = 'ni'\n",
    "if len(a)>=3:\n",
    "    if a.endswith('ing'):\n",
    "        print(a+'ly')\n",
    "    else:\n",
    "        print(a+'ing')\n",
    "print(a)"
   ]
  },
  {
   "cell_type": "code",
   "execution_count": 13,
   "id": "ba2a3e2f",
   "metadata": {},
   "outputs": [
    {
     "name": "stdout",
     "output_type": "stream",
     "text": [
      "he is poor\n",
      "he is poor\n"
     ]
    }
   ],
   "source": [
    "#ans 19\n",
    "str1=input()\n",
    "n = str1.find('not')\n",
    "p = str1.find('poor')\n",
    "\n",
    "if n < p and n!= -1 :\n",
    "    s = str1.replace(str1[n:(p+4)],'good')\n",
    "    print(s)\n",
    "else:\n",
    "    print(str1)"
   ]
  },
  {
   "cell_type": "code",
   "execution_count": null,
   "id": "b0e3e106",
   "metadata": {},
   "outputs": [],
   "source": [
    "#ans20\n",
    "list1=['python','assignment','python programming','python assignment']\n",
    "l1 = []\n",
    "for i in list1:\n",
    "    l1.append(len(i))\n",
    "\n",
    "l1.sort()\n",
    "print(l1[-1])\n",
    "    "
   ]
  },
  {
   "cell_type": "code",
   "execution_count": 3,
   "id": "43e891c3",
   "metadata": {},
   "outputs": [
    {
     "name": "stdout",
     "output_type": "stream",
     "text": [
      "gfyt\n",
      "tyfg\n"
     ]
    }
   ],
   "source": [
    "#ans21\n",
    "n = input()\n",
    "b = len(n)\n",
    "if b%4 == 0:\n",
    "    print(n[::-1])\n",
    "else:\n",
    "    print(n)\n",
    "    "
   ]
  },
  {
   "cell_type": "code",
   "execution_count": null,
   "id": "96059100",
   "metadata": {},
   "outputs": [],
   "source": [
    "#ans22\n",
    "a=input()\n",
    "if len(a)<2:\n",
    "    print('empty string')\n",
    "if len(a)==2:\n",
    "    print(a+a)\n",
    "if len(a)>2:\n",
    "    print(a[:2] + a[-2:])"
   ]
  },
  {
   "cell_type": "code",
   "execution_count": null,
   "id": "f1a460fd",
   "metadata": {},
   "outputs": [],
   "source": [
    "#ans23\n",
    "a = input()\n",
    "middle = input()\n",
    "a[:len(a)//2] + middle + a[len(a)//2:]"
   ]
  }
 ],
 "metadata": {
  "kernelspec": {
   "display_name": "Python 3 (ipykernel)",
   "language": "python",
   "name": "python3"
  },
  "language_info": {
   "codemirror_mode": {
    "name": "ipython",
    "version": 3
   },
   "file_extension": ".py",
   "mimetype": "text/x-python",
   "name": "python",
   "nbconvert_exporter": "python",
   "pygments_lexer": "ipython3",
   "version": "3.9.12"
  }
 },
 "nbformat": 4,
 "nbformat_minor": 5
}
